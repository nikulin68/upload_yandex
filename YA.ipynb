{
 "cells": [
  {
   "cell_type": "code",
   "execution_count": 4,
   "metadata": {},
   "outputs": [
    {
     "name": "stdout",
     "output_type": "stream",
     "text": [
      "Success\n",
      "None\n"
     ]
    }
   ],
   "source": [
    "\n",
    "\n",
    "\n",
    "from pprint import pprint\n",
    "\n",
    "\n",
    "import requests\n",
    "\n",
    "\n",
    "\n",
    "TOKEN = ''\n",
    "\n",
    "    \n",
    "class YandexDisk:\n",
    "\n",
    "\n",
    "    def __init__(self, token):\n",
    "        self.token = token\n",
    "\n",
    "    def get_headers(self):\n",
    "        return {\n",
    "            'Content-Type': 'application/json',\n",
    "            'Authorization': 'OAuth {}'.format(self.token)\n",
    "        }\n",
    "\n",
    "    def get_files_list(self):\n",
    "        files_url = 'https://cloud-api.yandex.net/v1/disk/resources/files'\n",
    "        headers = self.get_headers()\n",
    "        response = requests.get(files_url, headers=headers)\n",
    "        return response.json()\n",
    "\n",
    "    def _get_upload_link(self, disk_file_path):\n",
    "        upload_url = \"https://cloud-api.yandex.net/v1/disk/resources/upload\"\n",
    "        headers = self.get_headers()\n",
    "        params = {\"path\": disk_file_path, \"overwrite\": \"true\"}\n",
    "        response = requests.get(upload_url, headers=headers, params=params)\n",
    "        # pprint(response.json())\n",
    "        return response.json()\n",
    "\n",
    "    def upload_file_to_disk(self, disk_file_path, filename):\n",
    "        href = self._get_upload_link(disk_file_path=disk_file_path).get(\"href\", \"\")\n",
    "        response = requests.put(href, data=open(filename, 'rb'))\n",
    "        response.raise_for_status()\n",
    "        if response.status_code == 201:\n",
    "            print(\"Success\")\n",
    "\n",
    "if __name__ == \"__main__\":\n",
    "    ya = YandexDisk(token = TOKEN)\n",
    "    pprint(ya.upload_file_to_disk(\"Netology/file12.02.txt\", \"file12.02.txt\"))\n"
   ]
  }
 ],
 "metadata": {
  "interpreter": {
   "hash": "31f2aee4e71d21fbe5cf8b01ff0e069b9275f58929596ceb00d14d90e3e16cd6"
  },
  "kernelspec": {
   "display_name": "Python 3.8.9 64-bit",
   "language": "python",
   "name": "python3"
  },
  "language_info": {
   "codemirror_mode": {
    "name": "ipython",
    "version": 3
   },
   "file_extension": ".py",
   "mimetype": "text/x-python",
   "name": "python",
   "nbconvert_exporter": "python",
   "pygments_lexer": "ipython3",
   "version": "3.8.9"
  },
  "orig_nbformat": 4
 },
 "nbformat": 4,
 "nbformat_minor": 2
}
